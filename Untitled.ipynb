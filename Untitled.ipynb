{
 "cells": [
  {
   "cell_type": "markdown",
   "id": "0b970455",
   "metadata": {},
   "source": [
    "# Gerative Midi\n",
    "\n",
    "Python code to generate continuious music sequences."
   ]
  },
  {
   "cell_type": "code",
   "execution_count": 1,
   "id": "cbea14f2",
   "metadata": {},
   "outputs": [
    {
     "name": "stdout",
     "output_type": "stream",
     "text": [
      "pygame 2.0.1 (SDL 2.0.14, Python 3.7.3)\n",
      "Hello from the pygame community. https://www.pygame.org/contribute.html\n"
     ]
    }
   ],
   "source": [
    "from random import randint\n",
    "import time\n",
    "import traceback\n",
    "import pygame.midi"
   ]
  },
  {
   "cell_type": "code",
   "execution_count": 2,
   "id": "ec7191bf",
   "metadata": {},
   "outputs": [],
   "source": [
    "progressions = [\n",
    "    \"i-vi-iv-v\",\n",
    "    \"ii-iii-i-i\",\n",
    "    \"iv-iii-ii-i\",\n",
    "    \"iii-v-i-i\",\n",
    "    \"ii-v-i-i\",\n",
    "    \"i-iv-ii-v\",\n",
    "    \"i-v-vi-iv\",\n",
    "    \"i-vi-ii-v\",\n",
    "    \"v-iv-i-i\"];\n",
    "\n",
    "progressions = [ progressions[i].split(\"-\") for i in range(0,len(progressions)) ];"
   ]
  },
  {
   "cell_type": "code",
   "execution_count": 3,
   "id": "6e3ef42e",
   "metadata": {},
   "outputs": [],
   "source": [
    "SCALES = {\n",
    "  'major': (2, 2, 1, 2, 2, 2, 1),\n",
    "  'minor': (2, 1, 2, 2, 1, 2, 2),\n",
    "  'melodicminor': (2, 1, 2, 2, 2, 2, 1),\n",
    "  'harmonicminor': (2, 1, 2, 2, 1, 3, 1),\n",
    "  'pentatonicmajor': (2, 2, 3, 2, 3),\n",
    "  'bluesmajor': (3, 2, 1, 1, 2, 3),\n",
    "  'pentatonicminor': (3, 2, 2, 3, 2),\n",
    "  'bluesminor': (3, 2, 1, 1, 3, 2),\n",
    "  'augmented': (3, 1, 3, 1, 3, 1),\n",
    "  'diminished': (2, 1, 2, 1, 2, 1, 2, 1),\n",
    "  'chromatic': (1, 1, 1, 1, 1, 1, 1, 1, 1, 1, 1, 1),\n",
    "  'wholehalf': (2, 1, 2, 1, 2, 1, 2, 1),\n",
    "  'halfwhole': (1, 2, 1, 2, 1, 2, 1, 2),\n",
    "  'wholetone': (2, 2, 2, 2, 2, 2),\n",
    "  'augmentedfifth': (2, 2, 1, 2, 1, 1, 2, 1),\n",
    "  'japanese': (1, 4, 2, 1, 4),\n",
    "  'oriental': (1, 3, 1, 1, 3, 1, 2),\n",
    "  'ionian': (2, 2, 1, 2, 2, 2, 1),\n",
    "  'dorian': (2, 1, 2, 2, 2, 1, 2),\n",
    "  'phrygian': (1, 2, 2, 2, 1, 2, 2),\n",
    "  'lydian': (2, 2, 2, 1, 2, 2, 1),\n",
    "  'mixolydian': (2, 2, 1, 2, 2, 1, 2),\n",
    "  'aeolian': (2, 1, 2, 2, 1, 2, 2),\n",
    "  'locrian': (1, 2, 2, 1, 2, 2, 2),\n",
    "}"
   ]
  },
  {
   "cell_type": "code",
   "execution_count": 4,
   "id": "aa6dcf24",
   "metadata": {},
   "outputs": [],
   "source": [
    "def getMidiKey( scale, ind, root):\n",
    "    if scale not in SCALES:\n",
    "        return 0;\n",
    "    i = 0;\n",
    "    if ind == \"i\":\n",
    "        return root;\n",
    "    elif ind == \"ii\":\n",
    "        return root + SCALES[ scale ][0];\n",
    "    elif ind == \"iii\":\n",
    "        return root + sum(SCALES[ scale ][0:2]);\n",
    "    elif ind == \"iv\":\n",
    "        return root + sum(SCALES[ scale ][0:3]);\n",
    "    elif ind == \"v\":\n",
    "        return root + sum(SCALES[ scale ][0:4]);                      \n",
    "    elif ind == \"vi\":\n",
    "        return root + sum(SCALES[ scale ][0:5]);"
   ]
  },
  {
   "cell_type": "code",
   "execution_count": 5,
   "id": "c26ab27a",
   "metadata": {},
   "outputs": [
    {
     "data": {
      "text/plain": [
       "7"
      ]
     },
     "execution_count": 5,
     "metadata": {},
     "output_type": "execute_result"
    }
   ],
   "source": [
    "sum(SCALES[ \"pentatonicmajor\" ][0:3])"
   ]
  },
  {
   "cell_type": "code",
   "execution_count": 6,
   "id": "e58b53c1",
   "metadata": {},
   "outputs": [],
   "source": [
    "_RAND = 2;\n",
    "\n",
    "def getCord( r):\n",
    "    if not hasattr(getCord,\"pnt\"):\n",
    "        getCord.pnt = 0\n",
    "    if not hasattr(getCord,\"progPnt\"):\n",
    "        getCord.progPnt = 0\n",
    "    cord = progressions[ getCord.progPnt ][ getCord.pnt ];\n",
    "    if randint(0,r) == 0:\n",
    "        tries = 0;\n",
    "        while tries < 10:\n",
    "            tries += 1;\n",
    "            newProgPnt = randint(0,len(progressions) - 1);\n",
    "            if progressions[ getCord.progPnt ][ getCord.pnt ] in progressions[ newProgPnt ]:\n",
    "                newPnt = 0;\n",
    "                for ii in range(0, len( progressions[ newProgPnt ])):\n",
    "                    if progressions[ getCord.progPnt ][ getCord.pnt ] == progressions[ newProgPnt ][ ii ]:\n",
    "                        newPnt = ii;\n",
    "                        break;\n",
    "                getCord.progPnt = newProgPnt;\n",
    "                newPnt += 1\n",
    "                if newPnt >= len( progressions[ getCord.progPnt ] ):\n",
    "                    newPnt = 0;\n",
    "                getCord.pnt = newPnt;\n",
    "        if tries == 10:\n",
    "            getCord.pnt +=1;\n",
    "    else:\n",
    "        getCord.pnt +=1;\n",
    "    if getCord.pnt >= len(progressions[ getCord.progPnt ]):\n",
    "        getCord.pnt = 0;\n",
    "    return cord;"
   ]
  },
  {
   "cell_type": "code",
   "execution_count": 7,
   "id": "cb4c94bf",
   "metadata": {},
   "outputs": [],
   "source": [
    "drumTabs = \"\"\"\n",
    "C1|----------------|------x---------|--------------x-|------x-------x-|\n",
    "HH|x-x-x-x-x-x-x-x-|x-x-x---x-x-x-x-|x-x-x-x-x-x-x---|x-x-x---x-x-x---|\n",
    "SD|----o-------o---|----o-------o---|----o-------o---|----o-------o---|\n",
    "BD|o-----o---o-----|o-----o---o-----|o-----o-o-------|o-----o---o-----|\"\"\"\n",
    "\n",
    "drumFillTabs = \"\"\"\n",
    "C1|------------x-x-|------x-------x-|--------x-x-x-x-|------------x-x-|\n",
    "HH|x-x-x-x-x-x-----|x-x-x---x-x-x---|x-x-x-x---------|x-x-x-x-x-x-----|\n",
    "SD|----o-------o-o-|----o-------o---|----o-------o-o-|----o-------o-o-|\n",
    "BD|o-----o---o-----|o-----o-o-o---o-|o-----o-o-------|o---------o-----|\"\"\""
   ]
  },
  {
   "cell_type": "code",
   "execution_count": 8,
   "id": "4f5dd846",
   "metadata": {},
   "outputs": [],
   "source": [
    "def parseTab( s ):\n",
    "    tmpDrums = list(filter(None,s.splitlines()));\n",
    "    tmp = {};\n",
    "    for i in range(0, len(tmpDrums)):\n",
    "        lbl , pattern = tmpDrums[i].split(\"|\",1)\n",
    "        tmp[ lbl ] = list(filter(None,pattern.split(\"|\")));\n",
    "    if \"C1\" not in tmp:\n",
    "        tmp[\"C1\"] = [ \"----------------\" for i in range( 0 , len( tmp[ list(tmp.keys())[0] ] ) )];\n",
    "    if \"HH\" not in tmp:\n",
    "        tmp[\"HH\"] = [ \"----------------\" for i in range( 0 , len( tmp[ list(tmp.keys())[0] ] ) )];\n",
    "    if \"SD\" not in tmp:\n",
    "        tmp[\"SD\"] = [ \"----------------\" for i in range( 0 , len( tmp[ list(tmp.keys())[0] ] ) )];\n",
    "    if \"BD\" not in tmp:\n",
    "        tmp[\"BD\"] = [ \"----------------\" for i in range( 0 , len( tmp[ list(tmp.keys())[0] ] ) )];\n",
    "    return tmp;"
   ]
  },
  {
   "cell_type": "code",
   "execution_count": 9,
   "id": "25a70c6c",
   "metadata": {},
   "outputs": [],
   "source": [
    "#TODO: multipule tabs in a file\n",
    "drums = parseTab( drumTabs );\n",
    "drumFills = parseTab( drumFillTabs );"
   ]
  },
  {
   "cell_type": "markdown",
   "id": "c043a3ed",
   "metadata": {},
   "source": [
    "## Midi genetation"
   ]
  },
  {
   "cell_type": "code",
   "execution_count": 10,
   "id": "8ffe851a",
   "metadata": {},
   "outputs": [],
   "source": [
    "running = True"
   ]
  },
  {
   "cell_type": "code",
   "execution_count": 11,
   "id": "cd9d5c8b",
   "metadata": {},
   "outputs": [
    {
     "name": "stdout",
     "output_type": "stream",
     "text": [
      "Setting up midi.\n"
     ]
    },
    {
     "name": "stderr",
     "output_type": "stream",
     "text": [
      "Traceback (most recent call last):\n",
      "  File \"/tmp/ipykernel_17380/2426302902.py\", line 101, in <module>\n",
      "    time.sleep( SIXTEENTH );\n",
      "KeyboardInterrupt\n"
     ]
    }
   ],
   "source": [
    "bar = 1;\n",
    "cord = None;\n",
    "while not cord:\n",
    "    cord = getCord( _RAND);\n",
    "\n",
    "SCALE = 'pentatonicmajor';\n",
    "ROOT_BASS = 36; # Midi\n",
    "ROOT_LEAD = 60; # Midi\n",
    "BPM = 86\n",
    "SIXTEENTH = ( 60 / (BPM*4) );\n",
    "MIDI_PORT = 0;\n",
    "\n",
    "print(\"Setting up midi.\")\n",
    "\n",
    "pygame.midi.init()\n",
    "player = pygame.midi.Output( MIDI_PORT );\n",
    "\n",
    "noteBD = None;\n",
    "noteSD = None;\n",
    "noteHH = None;\n",
    "noteC1 = None;\n",
    "noteBass = None;\n",
    "noteLead = None;\n",
    "\n",
    "drumPnt = randint(0,len(drums[\"BD\"]) - 1);\n",
    "drumFillPnt = randint(0,len(drumFills[\"BD\"]) - 1);\n",
    "sixteenthPnt = 0;\n",
    "\n",
    "while running:\n",
    "    try:\n",
    "        seq = None;\n",
    "        pnt = 0;\n",
    "        if bar == 4:\n",
    "            pnt = drumFillPnt;\n",
    "            seq = drumFills\n",
    "        else:\n",
    "            seq = drums\n",
    "            pnt = drumPnt\n",
    "        \n",
    "        #DB\n",
    "        if seq[\"BD\"][ pnt ][ sixteenthPnt ] != \"-\":\n",
    "            player.note_on( 65 , velocity = 100,channel=0 );\n",
    "            noteBD = 65;\n",
    "        elif noteBD:\n",
    "            player.note_off( 65,channel=0);\n",
    "            noteBD = None;\n",
    "        #SD \n",
    "        if seq[\"SD\"][ pnt ][ sixteenthPnt ] != \"-\":\n",
    "            player.note_on( 65 , velocity = 100,channel=1 );\n",
    "            noteSD = 65;\n",
    "        elif noteSD:\n",
    "            player.note_off( 65,channel=1);\n",
    "            noteSD = None;\n",
    "        #HH\n",
    "        if seq[\"HH\"][ pnt ][ sixteenthPnt ] != \"-\":\n",
    "            player.note_on( 65 , velocity = 100,channel=2 );\n",
    "            noteHH = 65;\n",
    "        elif noteHH:\n",
    "            player.note_off( 65,channel=2);\n",
    "            noteHH = None;\n",
    "        #C1\n",
    "        if seq[\"C1\"][ pnt ][ sixteenthPnt ] != \"-\":\n",
    "            player.note_on( 65 , velocity = 100,channel=3 );\n",
    "            noteC1 = 65;\n",
    "        elif noteC1:\n",
    "            player.note_off( 65,channel=3);\n",
    "            noteC1 = None;\n",
    "        #BASS\n",
    "        if ( seq[\"BD\"][ pnt ][ sixteenthPnt ] != \"-\" or\n",
    "            seq[\"SD\"][ pnt ][ sixteenthPnt ] != \"-\"):\n",
    "            if randint(0,_RAND) == 0:\n",
    "                noteBass = getMidiKey(SCALE, cord, ROOT_BASS );\n",
    "                player.note_on( noteBass , velocity = 100,channel=4 );\n",
    "        elif noteBass:\n",
    "            player.note_off( noteBass , velocity = 100,channel=4 );\n",
    "        \n",
    "        \n",
    "        if sixteenthPnt == 0:\n",
    "            #LEAD\n",
    "            if noteLead:\n",
    "                player.note_off( noteLead, velocity = 100,channel=5 );\n",
    "            cord = getCord( _RAND );\n",
    "            noteLead = getMidiKey(SCALE, cord, ROOT_LEAD);\n",
    "            player.note_on( noteLead , velocity = 100,channel=5 );\n",
    "            \n",
    "            #NEW DRUm Pnt\n",
    "            drumPnt\n",
    "            if bar == 3:\n",
    "                drumFillPnt = randint(0,len(drumFills) - 1);\n",
    "            else:\n",
    "                drumPnt = randint(0,len(drums) - 1);\n",
    "        elif sixteenthPnt == 15:\n",
    "            bar += 1;\n",
    "            if bar > 4:\n",
    "                bar = 1;\n",
    "            \n",
    "        sixteenthPnt += 1;\n",
    "        if sixteenthPnt > 15:\n",
    "            sixteenthPnt = 0;\n",
    "        \n",
    "        time.sleep( SIXTEENTH );\n",
    "    except:\n",
    "        traceback.print_exc()\n",
    "        break;"
   ]
  },
  {
   "cell_type": "code",
   "execution_count": null,
   "id": "bd90014e",
   "metadata": {},
   "outputs": [],
   "source": []
  },
  {
   "cell_type": "code",
   "execution_count": null,
   "id": "abb52643",
   "metadata": {},
   "outputs": [],
   "source": []
  },
  {
   "cell_type": "code",
   "execution_count": null,
   "id": "3d6189ce",
   "metadata": {},
   "outputs": [],
   "source": []
  }
 ],
 "metadata": {
  "kernelspec": {
   "display_name": "Python 3 (ipykernel)",
   "language": "python",
   "name": "python3"
  },
  "language_info": {
   "codemirror_mode": {
    "name": "ipython",
    "version": 3
   },
   "file_extension": ".py",
   "mimetype": "text/x-python",
   "name": "python",
   "nbconvert_exporter": "python",
   "pygments_lexer": "ipython3",
   "version": "3.7.3"
  }
 },
 "nbformat": 4,
 "nbformat_minor": 5
}
